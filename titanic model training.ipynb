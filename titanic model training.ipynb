{
 "cells": [
  {
   "cell_type": "code",
   "execution_count": 16,
   "metadata": {},
   "outputs": [],
   "source": [
    "import pandas as pd\n",
    "import numpy as np\n",
    "from sklearn.ensemble import RandomForestClassifier\n",
    "from sklearn.model_selection import train_test_split"
   ]
  },
  {
   "cell_type": "markdown",
   "metadata": {},
   "source": [
    "# Data\n",
    "Split given training data into the following split:\n",
    "- 60% Training set\n",
    "- 20% Cross Validation Set\n",
    "- 10% Test Set"
   ]
  },
  {
   "cell_type": "code",
   "execution_count": 21,
   "metadata": {},
   "outputs": [],
   "source": [
    "df_all = pd.read_excel('train.xlsx')\n",
    "df = df_all.drop(columns = ['Name', 'Cabin', 'Ticket'])\n",
    "\n",
    "# one hot encoding for all categorical values\n",
    "cat_variables = ['Pclass', 'Sex', 'SibSp', 'Parch', 'Embarked']\n",
    "df = pd.get_dummies(data= df, prefix=cat_variables, columns=cat_variables)\n",
    "\n",
    "# get all columns that will be used as features, rmove target column to prepare for splitting\n",
    "features = [ x for x in df.columns if x not in 'Survived']\n"
   ]
  },
  {
   "cell_type": "code",
   "execution_count": 24,
   "metadata": {},
   "outputs": [],
   "source": [
    "X_train, X_test, y_train, y_test = train_test_split(df[features], df['Survived'], \n",
    "                                                    train_size=0.8, random_state=42)\n",
    "# display(X_train)\n",
    "# display(X_test)\n",
    "# display(y_train)\n",
    "# display(y_test)"
   ]
  },
  {
   "cell_type": "code",
   "execution_count": null,
   "metadata": {},
   "outputs": [],
   "source": []
  }
 ],
 "metadata": {
  "kernelspec": {
   "display_name": "Python 3",
   "language": "python",
   "name": "python3"
  },
  "language_info": {
   "codemirror_mode": {
    "name": "ipython",
    "version": 3
   },
   "file_extension": ".py",
   "mimetype": "text/x-python",
   "name": "python",
   "nbconvert_exporter": "python",
   "pygments_lexer": "ipython3",
   "version": "3.11.9"
  }
 },
 "nbformat": 4,
 "nbformat_minor": 2
}
